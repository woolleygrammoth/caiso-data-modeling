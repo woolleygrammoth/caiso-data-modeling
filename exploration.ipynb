{
 "cells": [
  {
   "cell_type": "code",
   "execution_count": 1,
   "id": "5a3fcf62-47ea-4821-bc36-faf77bcb41c5",
   "metadata": {},
   "outputs": [],
   "source": [
    "import pandas as pd\n",
    "import numpy as np\n",
    "import matplotlib.pyplot as plt\n",
    "import datetime, os"
   ]
  },
  {
   "cell_type": "code",
   "execution_count": 15,
   "id": "addde899-122f-408e-b25b-2b7817f6c1b5",
   "metadata": {},
   "outputs": [
    {
     "data": {
      "text/html": [
       "<div>\n",
       "<style scoped>\n",
       "    .dataframe tbody tr th:only-of-type {\n",
       "        vertical-align: middle;\n",
       "    }\n",
       "\n",
       "    .dataframe tbody tr th {\n",
       "        vertical-align: top;\n",
       "    }\n",
       "\n",
       "    .dataframe thead th {\n",
       "        text-align: right;\n",
       "    }\n",
       "</style>\n",
       "<table border=\"1\" class=\"dataframe\">\n",
       "  <thead>\n",
       "    <tr style=\"text-align: right;\">\n",
       "      <th></th>\n",
       "      <th>Hour-ahead forecast</th>\n",
       "      <th>Demand</th>\n",
       "      <th>Net demand</th>\n",
       "    </tr>\n",
       "    <tr>\n",
       "      <th>Timestamp</th>\n",
       "      <th></th>\n",
       "      <th></th>\n",
       "      <th></th>\n",
       "    </tr>\n",
       "  </thead>\n",
       "  <tbody>\n",
       "    <tr>\n",
       "      <th>2018-04-10 00:00:00</th>\n",
       "      <td>22701.0</td>\n",
       "      <td>22459.0</td>\n",
       "      <td>22117.0</td>\n",
       "    </tr>\n",
       "    <tr>\n",
       "      <th>2018-04-10 00:05:00</th>\n",
       "      <td>22311.0</td>\n",
       "      <td>22371.0</td>\n",
       "      <td>21955.0</td>\n",
       "    </tr>\n",
       "    <tr>\n",
       "      <th>2018-04-10 00:10:00</th>\n",
       "      <td>22311.0</td>\n",
       "      <td>22330.0</td>\n",
       "      <td>21882.0</td>\n",
       "    </tr>\n",
       "    <tr>\n",
       "      <th>2018-04-10 00:15:00</th>\n",
       "      <td>22311.0</td>\n",
       "      <td>22082.0</td>\n",
       "      <td>21774.0</td>\n",
       "    </tr>\n",
       "    <tr>\n",
       "      <th>2018-04-10 00:20:00</th>\n",
       "      <td>22094.0</td>\n",
       "      <td>21978.0</td>\n",
       "      <td>21613.0</td>\n",
       "    </tr>\n",
       "    <tr>\n",
       "      <th>...</th>\n",
       "      <td>...</td>\n",
       "      <td>...</td>\n",
       "      <td>...</td>\n",
       "    </tr>\n",
       "    <tr>\n",
       "      <th>2022-05-11 23:35:00</th>\n",
       "      <td>22529.0</td>\n",
       "      <td>22806.0</td>\n",
       "      <td>18549.0</td>\n",
       "    </tr>\n",
       "    <tr>\n",
       "      <th>2022-05-11 23:40:00</th>\n",
       "      <td>22529.0</td>\n",
       "      <td>22679.0</td>\n",
       "      <td>18436.0</td>\n",
       "    </tr>\n",
       "    <tr>\n",
       "      <th>2022-05-11 23:45:00</th>\n",
       "      <td>22529.0</td>\n",
       "      <td>22594.0</td>\n",
       "      <td>18283.0</td>\n",
       "    </tr>\n",
       "    <tr>\n",
       "      <th>2022-05-11 23:50:00</th>\n",
       "      <td>22298.0</td>\n",
       "      <td>NaN</td>\n",
       "      <td>NaN</td>\n",
       "    </tr>\n",
       "    <tr>\n",
       "      <th>2022-05-11 23:55:00</th>\n",
       "      <td>22298.0</td>\n",
       "      <td>NaN</td>\n",
       "      <td>NaN</td>\n",
       "    </tr>\n",
       "  </tbody>\n",
       "</table>\n",
       "<p>429984 rows × 3 columns</p>\n",
       "</div>"
      ],
      "text/plain": [
       "                     Hour-ahead forecast   Demand  Net demand\n",
       "Timestamp                                                    \n",
       "2018-04-10 00:00:00              22701.0  22459.0     22117.0\n",
       "2018-04-10 00:05:00              22311.0  22371.0     21955.0\n",
       "2018-04-10 00:10:00              22311.0  22330.0     21882.0\n",
       "2018-04-10 00:15:00              22311.0  22082.0     21774.0\n",
       "2018-04-10 00:20:00              22094.0  21978.0     21613.0\n",
       "...                                  ...      ...         ...\n",
       "2022-05-11 23:35:00              22529.0  22806.0     18549.0\n",
       "2022-05-11 23:40:00              22529.0  22679.0     18436.0\n",
       "2022-05-11 23:45:00              22529.0  22594.0     18283.0\n",
       "2022-05-11 23:50:00              22298.0      NaN         NaN\n",
       "2022-05-11 23:55:00              22298.0      NaN         NaN\n",
       "\n",
       "[429984 rows x 3 columns]"
      ]
     },
     "execution_count": 15,
     "metadata": {},
     "output_type": "execute_result"
    }
   ],
   "source": [
    "df = pd.read_csv('./scraped-data/caiso-net-demand.csv')\n",
    "df.index = pd.to_datetime(df['Timestamp'])\n",
    "df.drop('Timestamp', axis=1, inplace=True)\n",
    "df"
   ]
  },
  {
   "cell_type": "code",
   "execution_count": 34,
   "id": "b67088d2-4b9f-48d1-bdf6-b41d68fe50bc",
   "metadata": {},
   "outputs": [
    {
     "name": "stdout",
     "output_type": "stream",
     "text": [
      "Hour-ahead forecast 324\n",
      "                     Hour-ahead forecast  Demand  Net demand\n",
      "Timestamp                                                   \n",
      "2019-03-10 02:00:00                  NaN     NaN         NaN\n",
      "2019-03-10 02:05:00                  NaN     NaN         NaN\n",
      "2019-03-10 02:10:00                  NaN     NaN         NaN\n",
      "2019-03-10 02:15:00                  NaN     NaN         NaN\n",
      "2019-03-10 02:20:00                  NaN     NaN         NaN\n",
      "...                                  ...     ...         ...\n",
      "2021-03-14 02:35:00                  NaN     NaN         NaN\n",
      "2021-03-14 02:40:00                  NaN     NaN         NaN\n",
      "2021-03-14 02:45:00                  NaN     NaN         NaN\n",
      "2021-03-14 02:50:00                  NaN     NaN         NaN\n",
      "2021-03-14 02:55:00                  NaN     NaN         NaN\n",
      "\n",
      "[324 rows x 3 columns]\n",
      "Demand 260\n",
      "                     Hour-ahead forecast  Demand  Net demand\n",
      "Timestamp                                                   \n",
      "2018-04-11 07:40:00              24854.0     NaN         NaN\n",
      "2018-04-11 07:45:00              24854.0     NaN         NaN\n",
      "2018-04-11 07:50:00              24874.0     NaN         NaN\n",
      "2018-04-11 07:55:00              24874.0     NaN         NaN\n",
      "2018-04-11 08:00:00              24874.0     NaN         NaN\n",
      "...                                  ...     ...         ...\n",
      "2022-03-30 23:55:00              21216.0     NaN         NaN\n",
      "2022-05-10 23:50:00              22375.0     NaN         NaN\n",
      "2022-05-10 23:55:00              22375.0     NaN         NaN\n",
      "2022-05-11 23:50:00              22298.0     NaN         NaN\n",
      "2022-05-11 23:55:00              22298.0     NaN         NaN\n",
      "\n",
      "[260 rows x 3 columns]\n",
      "Net demand 1988\n",
      "                     Hour-ahead forecast  Demand  Net demand\n",
      "Timestamp                                                   \n",
      "2018-04-11 07:40:00              24854.0     NaN         NaN\n",
      "2018-04-11 07:45:00              24854.0     NaN         NaN\n",
      "2018-04-11 07:50:00              24874.0     NaN         NaN\n",
      "2018-04-11 07:55:00              24874.0     NaN         NaN\n",
      "2018-04-11 08:00:00              24874.0     NaN         NaN\n",
      "...                                  ...     ...         ...\n",
      "2022-03-30 23:55:00              21216.0     NaN         NaN\n",
      "2022-05-10 23:50:00              22375.0     NaN         NaN\n",
      "2022-05-10 23:55:00              22375.0     NaN         NaN\n",
      "2022-05-11 23:50:00              22298.0     NaN         NaN\n",
      "2022-05-11 23:55:00              22298.0     NaN         NaN\n",
      "\n",
      "[1988 rows x 3 columns]\n"
     ]
    }
   ],
   "source": [
    "# Data cleaning\n",
    "for col in df.columns: \n",
    "    print(col, df[col].isna().sum())\n",
    "    print(df[df[col].isna()])\n",
    "    \n"
   ]
  },
  {
   "cell_type": "code",
   "execution_count": 46,
   "id": "0f2ea49b-39ff-4865-9d65-82282f412c95",
   "metadata": {},
   "outputs": [
    {
     "data": {
      "image/png": "[encoded data removed]",
      "text/plain": [
       "<Figure size 432x288 with 1 Axes>"
      ]
     },
     "metadata": {
      "needs_background": "light"
     },
     "output_type": "display_data"
    }
   ],
   "source": [
    "df_clean = df.interpolate(method='linear')\n",
    "df_clean = df_clean.resample('7D').mean()\n",
    "\n",
    "plt.plot(df_clean.index, no_nans['Net demand'])\n",
    "plt.show()"
   ]
  },
  {
   "cell_type": "code",
   "execution_count": null,
   "id": "6f825b04-35ef-408c-95ad-6f2f74ea553a",
   "metadata": {},
   "outputs": [],
   "source": []
  }
 ],
 "metadata": {
  "kernelspec": {
   "display_name": "Python 3",
   "language": "python",
   "name": "python3"
  },
  "language_info": {
   "codemirror_mode": {
    "name": "ipython",
    "version": 3
   },
   "file_extension": ".py",
   "mimetype": "text/x-python",
   "name": "python",
   "nbconvert_exporter": "python",
   "pygments_lexer": "ipython3",
   "version": "3.8.8"
  }
 },
 "nbformat": 4,
 "nbformat_minor": 5
}
